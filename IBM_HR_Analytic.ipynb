{
 "cells": [
  {
   "cell_type": "code",
   "execution_count": 1,
   "id": "1f26d83d",
   "metadata": {},
   "outputs": [],
   "source": [
    "import pandas as pd\n",
    "import numpy as np\n",
    "from sklearn.preprocessing import LabelEncoder\n",
    "from sklearn.ensemble import RandomForestClassifier\n",
    "from sklearn.model_selection import cross_val_score, StratifiedKFold\n",
    "from sklearn.preprocessing import MinMaxScaler\n",
    "import matplotlib.pyplot as plt\n",
    "from sklearn.metrics import accuracy_score\n",
    "from sklearn.decomposition import PCA\n",
    "from sklearn.linear_model import LinearRegression\n",
    "from imblearn.over_sampling import SMOTE\n",
    "from sklearn.ensemble import RandomForestRegressor\n",
    "from sklearn.model_selection import KFold"
   ]
  },
  {
   "cell_type": "code",
   "execution_count": 2,
   "id": "66cb7ea5",
   "metadata": {},
   "outputs": [
    {
     "data": {
      "text/plain": [
       "1470"
      ]
     },
     "execution_count": 2,
     "metadata": {},
     "output_type": "execute_result"
    }
   ],
   "source": [
    "df = pd.read_csv('ibm_emp_perf.csv')\n",
    "len(df)"
   ]
  },
  {
   "cell_type": "code",
   "execution_count": 3,
   "id": "ea8f193d",
   "metadata": {},
   "outputs": [],
   "source": [
    "df = pd.read_csv('ibm_emp_perf.csv')\n",
    "df.drop(['EmployeeCount', 'EmployeeNumber', 'Over18', 'PercentSalaryHike','MonthlyRate','DailyRate', 'HourlyRate'], axis=\"columns\", inplace=True)\n",
    "\n",
    "categorical_cols = df.select_dtypes(include=[\"object\"]).columns\n",
    "le = LabelEncoder()\n",
    "for col in categorical_cols:\n",
    "    df[col] = le.fit_transform(df[col].astype(str))\n",
    "\n",
    "train = df.iloc[:1000]   # first 1000 rows\n",
    "test = df.iloc[1000:]  # remaining rows\n"
   ]
  },
  {
   "cell_type": "code",
   "execution_count": 7,
   "id": "e9700efd",
   "metadata": {},
   "outputs": [],
   "source": [
    "train_X = train.drop(\"PerformanceRating\", axis=1)  \n",
    "train_y = train[\"PerformanceRating\"]\n",
    "test_X = test.drop(\"PerformanceRating\", axis=1)\n",
    "test_y = test[\"PerformanceRating\"]"
   ]
  },
  {
   "cell_type": "code",
   "execution_count": 8,
   "id": "a33f131a",
   "metadata": {},
   "outputs": [
    {
     "data": {
      "text/plain": [
       "Index(['Age', 'Attrition', 'BusinessTravel', 'Department', 'DistanceFromHome',\n",
       "       'Education', 'EducationField', 'EnvironmentSatisfaction', 'Gender',\n",
       "       'JobInvolvement', 'JobLevel', 'JobRole', 'JobSatisfaction',\n",
       "       'MaritalStatus', 'MonthlyIncome', 'NumCompaniesWorked', 'OverTime',\n",
       "       'RelationshipSatisfaction', 'StandardHours', 'StockOptionLevel',\n",
       "       'TotalWorkingYears', 'TrainingTimesLastYear', 'WorkLifeBalance',\n",
       "       'YearsAtCompany', 'YearsInCurrentRole', 'YearsSinceLastPromotion',\n",
       "       'YearsWithCurrManager'],\n",
       "      dtype='object')"
      ]
     },
     "execution_count": 8,
     "metadata": {},
     "output_type": "execute_result"
    }
   ],
   "source": [
    "train_X.columns"
   ]
  },
  {
   "cell_type": "code",
   "execution_count": 9,
   "id": "158924ee",
   "metadata": {},
   "outputs": [
    {
     "data": {
      "text/plain": [
       "PerformanceRating           1.000000\n",
       "YearsInCurrentRole          0.034986\n",
       "DistanceFromHome            0.027110\n",
       "YearsWithCurrManager        0.022827\n",
       "YearsSinceLastPromotion     0.017896\n",
       "TotalWorkingYears           0.006744\n",
       "MaritalStatus               0.005207\n",
       "OverTime                    0.004369\n",
       "StockOptionLevel            0.003506\n",
       "YearsAtCompany              0.003435\n",
       "Attrition                   0.002889\n",
       "WorkLifeBalance             0.002572\n",
       "JobSatisfaction             0.002297\n",
       "Age                         0.001904\n",
       "EducationField             -0.005614\n",
       "Gender                     -0.013859\n",
       "NumCompaniesWorked         -0.014095\n",
       "TrainingTimesLastYear      -0.015579\n",
       "MonthlyIncome              -0.017120\n",
       "JobLevel                   -0.021222\n",
       "JobRole                    -0.024233\n",
       "Education                  -0.024539\n",
       "Department                 -0.024604\n",
       "BusinessTravel             -0.026341\n",
       "JobInvolvement             -0.029071\n",
       "EnvironmentSatisfaction    -0.029548\n",
       "RelationshipSatisfaction   -0.031351\n",
       "StandardHours                    NaN\n",
       "Name: PerformanceRating, dtype: float64"
      ]
     },
     "execution_count": 9,
     "metadata": {},
     "output_type": "execute_result"
    }
   ],
   "source": [
    "df.corr(numeric_only=True)[\"PerformanceRating\"].sort_values(ascending=False)"
   ]
  },
  {
   "cell_type": "code",
   "execution_count": 10,
   "id": "7e5cbf6b",
   "metadata": {},
   "outputs": [
    {
     "name": "stdout",
     "output_type": "stream",
     "text": [
      "Cross-validation scores: [-0.1312355  -0.12608    -0.154797   -0.13143037 -0.15193875]\n",
      "Mean r2: -0.139096325\n"
     ]
    }
   ],
   "source": [
    "rf = RandomForestRegressor(n_estimators=200, random_state=42)\n",
    "\n",
    "cv = KFold(n_splits=5, shuffle=True, random_state=42)\n",
    "scores = cross_val_score(rf, train_X, train_y, cv=cv, scoring=\"neg_mean_squared_error\")\n",
    "print(\"Cross-validation scores:\", scores)\n",
    "print(\"Mean r2:\", scores.mean())"
   ]
  },
  {
   "cell_type": "code",
   "execution_count": 11,
   "id": "05238441",
   "metadata": {},
   "outputs": [
    {
     "name": "stdout",
     "output_type": "stream",
     "text": [
      "Cross-validation RMSE scores: [0.36226441 0.35507746 0.3934425  0.36253327 0.38979321]\n",
      "Mean RMSE: 0.37262217005194775\n"
     ]
    }
   ],
   "source": [
    "from sklearn.model_selection import cross_val_score\n",
    "\n",
    "neg_mse_scores = cross_val_score(rf, train_X, train_y, cv=cv, scoring=\"neg_mean_squared_error\")\n",
    "rmse_scores = np.sqrt(-neg_mse_scores)\n",
    "\n",
    "print(\"Cross-validation RMSE scores:\", rmse_scores)\n",
    "print(\"Mean RMSE:\", rmse_scores.mean())\n"
   ]
  },
  {
   "cell_type": "code",
   "execution_count": 11,
   "id": "ac00b0c3",
   "metadata": {},
   "outputs": [
    {
     "name": "stdout",
     "output_type": "stream",
     "text": [
      "MAE: 0.2763936170212767\n"
     ]
    }
   ],
   "source": [
    "from sklearn.metrics import mean_absolute_error\n",
    "\n",
    "# 在 holdout set 上直接評估\n",
    "rf.fit(train_X, train_y)\n",
    "preds = rf.predict(test_X)\n",
    "print(\"MAE:\", mean_absolute_error(test_y, preds))\n"
   ]
  },
  {
   "cell_type": "code",
   "execution_count": null,
   "id": "95b49244",
   "metadata": {},
   "outputs": [
    {
     "name": "stdout",
     "output_type": "stream",
     "text": [
      "                     Feature  Importance\n",
      "14             MonthlyIncome    0.073768\n",
      "7    EnvironmentSatisfaction    0.057704\n",
      "0                        Age    0.049624\n",
      "17  RelationshipSatisfaction    0.048404\n",
      "20         TotalWorkingYears    0.046277\n",
      "4           DistanceFromHome    0.046159\n",
      "6             EducationField    0.044864\n",
      "13             MaritalStatus    0.041218\n",
      "22           WorkLifeBalance    0.041080\n",
      "11                   JobRole    0.040606\n",
      "23            YearsAtCompany    0.038904\n",
      "19          StockOptionLevel    0.038407\n",
      "2             BusinessTravel    0.036873\n",
      "5                  Education    0.036817\n",
      "15        NumCompaniesWorked    0.036151\n",
      "26      YearsWithCurrManager    0.036057\n",
      "21     TrainingTimesLastYear    0.035399\n",
      "24        YearsInCurrentRole    0.034979\n",
      "16                  OverTime    0.033908\n",
      "3                 Department    0.033573\n",
      "12           JobSatisfaction    0.033138\n",
      "9             JobInvolvement    0.029891\n",
      "25   YearsSinceLastPromotion    0.028103\n",
      "8                     Gender    0.021910\n",
      "10                  JobLevel    0.020438\n",
      "1                  Attrition    0.015749\n",
      "18             StandardHours    0.000000\n"
     ]
    },
    {
     "data": {
      "image/png": "[encoded data removed]",
      "text/plain": [
       "<Figure size 1000x600 with 1 Axes>"
      ]
     },
     "metadata": {},
     "output_type": "display_data"
    }
   ],
   "source": [
    "rf.fit(train_X, train_y)\n",
    "# Get feature importances\n",
    "importances = rf.feature_importances_\n",
    "feature_names = X_res.columns\n",
    "\n",
    "# Put into DataFrame\n",
    "feat_imp = pd.DataFrame({\"Feature\": feature_names, \"Importance\": importances})\n",
    "feat_imp = feat_imp.sort_values(\"Importance\", ascending=False)\n",
    "\n",
    "print(feat_imp)\n",
    "\n",
    "# Plot\n",
    "plt.figure(figsize=(10,6))\n",
    "plt.barh(feat_imp[\"Feature\"], feat_imp[\"Importance\"])\n",
    "plt.gca().invert_yaxis()\n",
    "plt.xlabel(\"Feature Importance\")\n",
    "plt.title(\"Random Forest Feature Importance\")\n",
    "plt.show()"
   ]
  },
  {
   "cell_type": "code",
   "execution_count": 9,
   "id": "6a8290e3",
   "metadata": {},
   "outputs": [
    {
     "data": {
      "text/plain": [
       "PerformanceRating\n",
       "3    1244\n",
       "4     226\n",
       "Name: count, dtype: int64"
      ]
     },
     "execution_count": 9,
     "metadata": {},
     "output_type": "execute_result"
    }
   ],
   "source": [
    "df.PerformanceRating.value_counts()"
   ]
  },
  {
   "cell_type": "code",
   "execution_count": 10,
   "id": "4325730c",
   "metadata": {},
   "outputs": [
    {
     "name": "stdout",
     "output_type": "stream",
     "text": [
      "Baseline model accuracy: 0.7851063829787234\n"
     ]
    }
   ],
   "source": [
    "y_pred = rf.predict(test_X)\n",
    "print(\"Baseline model accuracy:\", accuracy_score(test_y, y_pred))"
   ]
  },
  {
   "cell_type": "markdown",
   "id": "077800fc",
   "metadata": {},
   "source": [
    "## Features Proxy (for f(features))"
   ]
  },
  {
   "cell_type": "code",
   "execution_count": null,
   "id": "42cb3780",
   "metadata": {},
   "outputs": [
    {
     "name": "stdout",
     "output_type": "stream",
     "text": [
      "          Skill  Motivation   Fatigue\n",
      "1000  24.125865   43.235264  1.586082\n",
      "1001  16.163750   25.290166  1.066705\n",
      "1002  32.319148   78.179277  1.502927\n",
      "1003  14.656183   42.953621  0.624542\n",
      "1004  21.385586   50.924765  2.395041\n",
      "{'Skill': {'Education': np.float64(0.13191766115059883), 'JobLevel': np.float64(0.373827093359113), 'TotalWorkingYears': np.float64(0.2799114110231758), 'TrainingTimesLastYear': np.float64(0.011265739422080218), 'YearsInCurrentRole': np.float64(0.20307809504503224)}, 'Motivation': {'JobSatisfaction': np.float64(0.3453782950192546), 'EnvironmentSatisfaction': np.float64(0.43002941160072355), 'RelationshipSatisfaction': np.float64(0.1906180968138982), 'JobInvolvement': np.float64(0.027881455581914346), 'WorkLifeBalance': np.float64(0.006092740984209271)}, 'Fatigue': {'OverTime': np.float64(0.925149704368262), 'DistanceFromHome': np.float64(0.011584465814145333), 'YearsSinceLastPromotion': np.float64(0.010594408908427414), 'Age': np.float64(0.0009951251870083109), 'YearsWithCurrManager': np.float64(0.05167629572215668)}}\n"
     ]
    }
   ],
   "source": [
    "def pca_weighted_score(scaled_df, features):\n",
    "    \"\"\"\n",
    "    use PCA to determine weights for given features and compute a weighted score\n",
    "    \"\"\"\n",
    "    \n",
    "    pca = PCA(n_components=1)\n",
    "    pca.fit(scaled_df[features])\n",
    "    \n",
    "    # use absolute values of loadings as weights\n",
    "    loadings = np.abs(pca.components_[0])\n",
    "    weights = loadings / loadings.sum()\n",
    "    \n",
    "    # calculate weighted score\n",
    "    scores = scaled_df[features].values @ weights\n",
    "    return scores * 100, dict(zip(features, weights))\n",
    "\n",
    "def init_states(df):\n",
    "    \"\"\"\n",
    "    Calculate features parameters: Skill, Motivation, Fatigue\n",
    "    \"\"\"\n",
    "    # Skill proxies\n",
    "    skill_features = [\"Education\", \"JobLevel\", \"TotalWorkingYears\", \n",
    "                      \"TrainingTimesLastYear\", \"YearsInCurrentRole\"]\n",
    "    \n",
    "    # Motivation proxies\n",
    "    motivation_features = [\"JobSatisfaction\", \"EnvironmentSatisfaction\", \n",
    "                           \"RelationshipSatisfaction\", \"JobInvolvement\", \"WorkLifeBalance\"]\n",
    "    \n",
    "    # Fatigue proxies\n",
    "    fatigue_features = [\"OverTime\", \"DistanceFromHome\", \n",
    "                        \"YearsSinceLastPromotion\", \"Age\", \"YearsWithCurrManager\"]\n",
    "    \n",
    "    all_features = skill_features + motivation_features + fatigue_features\n",
    "    scaler = MinMaxScaler()\n",
    "    scaled_all = scaler.fit_transform(df[all_features])\n",
    "    scaled_df = pd.DataFrame(scaled_all, columns=all_features, index=df.index)\n",
    "    \n",
    "    # pca weighted scores for each parameter\n",
    "    skill, skill_w = pca_weighted_score(scaled_df, skill_features)\n",
    "    motivation, motivation_w = pca_weighted_score(scaled_df, motivation_features)\n",
    "    fatigue, fatigue_w = pca_weighted_score(scaled_df, fatigue_features)\n",
    "    \n",
    "    # return results and weights\n",
    "    states = pd.DataFrame({\n",
    "        \"Skill\": skill,\n",
    "        \"Motivation\": motivation,\n",
    "        \"Fatigue\": fatigue\n",
    "    }, index=df.index)\n",
    "    \n",
    "    weights = {\n",
    "        \"Skill\": skill_w,\n",
    "        \"Motivation\": motivation_w,\n",
    "        \"Fatigue\": fatigue_w\n",
    "    }\n",
    "    \n",
    "    return states, weights"
   ]
  },
  {
   "cell_type": "markdown",
   "id": "65306881",
   "metadata": {},
   "source": [
    "## Nudging Iteration"
   ]
  },
  {
   "cell_type": "code",
   "execution_count": null,
   "id": "349ef96c",
   "metadata": {},
   "outputs": [],
   "source": [
    "def nudging_iteration(X_states, test_y, y_pred, sigma, n_rounds=5):\n",
    "    \"\"\"\n",
    "    Run iterative nudging simulation.\n",
    "    - X_states: DataFrame with Skill, Motivation, Fatigue\n",
    "    - test_y: ground truth labels\n",
    "    - y_pred: baseline predictions\n",
    "    - sigma: residual standard deviation\n",
    "    - n_rounds: number of iterations\n",
    "    \"\"\"\n",
    "    current_y = test_y.copy()\n",
    "    \n",
    "    results = []\n",
    "    \n",
    "    for t in range(n_rounds):\n",
    "        # fit linear regression to estimate f(features)\n",
    "        X_fit = pd.DataFrame({\n",
    "        \"Skill\": X_states[\"Skill\"].values,\n",
    "        \"Motivation\": X_states[\"Motivation\"].values,\n",
    "        \"NegFatigue\": -X_states[\"Fatigue\"].values,   # take the negative of Fatigue\n",
    "        }, index=X_states.index)\n",
    "    \n",
    "        reg = LinearRegression()\n",
    "        reg.fit(X_fit, current_y)\n",
    "\n",
    "        X_pred = X_fit.copy()\n",
    "        f_values = reg.predict(X_pred)\n",
    "        f_centered = f_values - f_values.mean()\n",
    "        \n",
    "        # do(N)\n",
    "        # a = 0.01\n",
    "        # b = 1\n",
    "        # gap = y_pred - test_y\n",
    "        # mean = a*f_centered + b*gap\n",
    "        do_N = np.random.normal(loc=f_centered, scale=sigma)\n",
    "        \n",
    "        # nudge rating\n",
    "        direction = np.sign(y_pred - current_y)  # directional nudging\n",
    "        do_N = np.abs(do_N) * direction\n",
    "        nudge_rating = current_y + do_N\n",
    "        # nudge_rating = np.clip(np.round(nudge_rating), 1, 4)\n",
    "\n",
    "        current_y = nudge_rating.copy()\n",
    "        # distances\n",
    "        dist_nudge = np.mean(np.abs(nudge_rating - y_pred))\n",
    "        dist_true  = np.mean(np.abs(test_y - y_pred))\n",
    "\n",
    "        results.append({\n",
    "            \"round\": t,\n",
    "            \"mean_dist_nudge\": dist_nudge,\n",
    "            \"mean_dist_true\": dist_true,\n",
    "        })\n",
    "    return results"
   ]
  },
  {
   "cell_type": "code",
   "execution_count": 70,
   "id": "cec7907b",
   "metadata": {},
   "outputs": [],
   "source": [
    "def nudging_iteration(X_states, test_y, y_pred, sigma, n_rounds=5):\n",
    "    \"\"\"\n",
    "    Run iterative nudging simulation.\n",
    "    - X_states: DataFrame with Skill, Motivation, Fatigue\n",
    "    - test_y: ground truth labels\n",
    "    - y_pred: baseline predictions\n",
    "    - sigma: residual standard deviation\n",
    "    - n_rounds: number of iterations\n",
    "    \"\"\"\n",
    "    current_y = test_y.copy()\n",
    "    \n",
    "    results = []\n",
    "    \n",
    "    for t in range(n_rounds):\n",
    "        # fit linear regression to estimate f(features)\n",
    "        X_fit = pd.DataFrame({\n",
    "        \"Skill\": X_states[\"Skill\"].values,\n",
    "        \"Motivation\": X_states[\"Motivation\"].values,\n",
    "        \"NegFatigue\": -X_states[\"Fatigue\"].values,   # take the negative of Fatigue\n",
    "        }, index=X_states.index)\n",
    "    \n",
    "        reg = LinearRegression()\n",
    "        reg.fit(X_fit, current_y)\n",
    "\n",
    "        X_pred = X_fit.copy()\n",
    "        f_values = reg.predict(X_pred)\n",
    "        f_centered = f_values - f_values.mean()\n",
    "        \n",
    "        # do(N)\n",
    "        # a = 0.01\n",
    "        # b = 1\n",
    "        # gap = y_pred - test_y\n",
    "        # mean = a*f_centered + b*gap\n",
    "        do_N = np.random.normal(loc=f_centered, scale=sigma)\n",
    "        \n",
    "        # nudge rating\n",
    "        direction = np.sign(y_pred - current_y)  # directional nudging\n",
    "        do_N = np.abs(do_N) * direction\n",
    "        nudge_rating = current_y + do_N\n",
    "        # nudge_rating = np.clip(np.round(nudge_rating), 1, 4)\n",
    "\n",
    "        # (Can be change to anything) Update agent internal state based on reaction to prediction difference\n",
    "        X_states[\"Skill\"] += 0.05 * (y_pred - current_y)         \n",
    "        # If the model overestimates the employee's performance (y_pred > current_y),\n",
    "        # the agent may feel pressure to improve and put in more effort, leading to increased Skill.\n",
    "\n",
    "        X_states[\"Motivation\"] += 0.02 * (y_pred - current_y)    \n",
    "        # Being overestimated may also act as a motivator, encouraging the agent to stay engaged.\n",
    "\n",
    "        X_states[\"Fatigue\"] += 0.03 * np.abs(y_pred - current_y) \n",
    "        # Regardless of whether the prediction is too high or too low,\n",
    "        # the discrepancy can create stress or effort, resulting in higher Fatigue.\n",
    "\n",
    "\n",
    "        # Clip values to keep within range [0, 1]\n",
    "        X_states[\"Skill\"] = X_states[\"Skill\"].clip(0, 1)\n",
    "        X_states[\"Motivation\"] = X_states[\"Motivation\"].clip(0, 1)\n",
    "        X_states[\"Fatigue\"] = X_states[\"Fatigue\"].clip(0, 1)\n",
    "\n",
    "\n",
    "        current_y = nudge_rating.copy()\n",
    "\n",
    "        # distances\n",
    "\n",
    "        results.append({\n",
    "            \"round\": t,\n",
    "            \"mean_dist_to_y_pred\": np.mean(np.abs(current_y - y_pred)),\n",
    "            \"mean_dist_to_test_y\": np.mean(np.abs(current_y - test_y)),\n",
    "            \"mean_current_y\": current_y.mean()\n",
    "        })\n",
    "        \n",
    "    return results"
   ]
  },
  {
   "cell_type": "markdown",
   "id": "1164db0a",
   "metadata": {},
   "source": [
    "## Iteration"
   ]
  },
  {
   "cell_type": "code",
   "execution_count": 71,
   "id": "fde74928",
   "metadata": {},
   "outputs": [
    {
     "name": "stdout",
     "output_type": "stream",
     "text": [
      "Round 1:\n",
      "  Mean Distance (nudge vs pred): 0.136\n",
      "  Mean Distance  (nudge vs test): 0.079\n",
      "  Mean of Rating: 3.130\n",
      "Round 2:\n",
      "  Mean Distance (nudge vs pred): 0.091\n",
      "  Mean Distance  (nudge vs test): 0.153\n",
      "  Mean of Rating: 3.100\n",
      "Round 3:\n",
      "  Mean Distance (nudge vs pred): 0.062\n",
      "  Mean Distance  (nudge vs test): 0.215\n",
      "  Mean of Rating: 3.067\n",
      "Round 4:\n",
      "  Mean Distance (nudge vs pred): 0.065\n",
      "  Mean Distance  (nudge vs test): 0.219\n",
      "  Mean of Rating: 3.087\n",
      "Round 5:\n",
      "  Mean Distance (nudge vs pred): 0.052\n",
      "  Mean Distance  (nudge vs test): 0.228\n",
      "  Mean of Rating: 3.069\n"
     ]
    }
   ],
   "source": [
    "# initialization\n",
    "test_agents = test_X.copy()\n",
    "states, weights = init_states(test_agents)\n",
    "X_states = states[[\"Skill\", \"Motivation\", \"Fatigue\"]]\n",
    "\n",
    "# sigma calculation\n",
    "residuals_rf = test_y - y_pred\n",
    "sigma = residuals_rf.std()\n",
    "\n",
    "# 5 iterations\n",
    "results = nudging_iteration(X_states, test_y, y_pred, sigma, n_rounds=5)\n",
    "\n",
    "for r in results:\n",
    "    print(f\"Round {r['round']+1}:\")\n",
    "    print(f\"  Mean Distance (nudge vs pred): {r[\"mean_dist_to_y_pred\"]:.3f}\")\n",
    "    print(f\"  Mean Distance  (nudge vs test): {r[\"mean_dist_to_test_y\"]:.3f}\")\n",
    "    print(f\"  Mean of Rating: {r[\"mean_current_y\"]:.3f}\")\n"
   ]
  }
 ],
 "metadata": {
  "kernelspec": {
   "display_name": ".venv",
   "language": "python",
   "name": "python3"
  },
  "language_info": {
   "codemirror_mode": {
    "name": "ipython",
    "version": 3
   },
   "file_extension": ".py",
   "mimetype": "text/x-python",
   "name": "python",
   "nbconvert_exporter": "python",
   "pygments_lexer": "ipython3",
   "version": "3.13.7"
  }
 },
 "nbformat": 4,
 "nbformat_minor": 5
}
